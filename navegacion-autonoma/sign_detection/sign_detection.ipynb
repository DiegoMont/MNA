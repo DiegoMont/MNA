{
 "cells": [
  {
   "cell_type": "code",
   "execution_count": 1,
   "metadata": {},
   "outputs": [
    {
     "data": {
      "image/png": "[encoded data removed]",
      "text/plain": [
       "<Figure size 250x250 with 1 Axes>"
      ]
     },
     "metadata": {},
     "output_type": "display_data"
    }
   ],
   "source": [
    "from os import path\n",
    "\n",
    "from keras import layers\n",
    "import matplotlib.pyplot as plt\n",
    "import numpy as np\n",
    "import pandas as pd\n",
    "from PIL import Image\n",
    "\n",
    "\n",
    "class SignDataset:\n",
    "    def __init__(self, data_filename: str, data_dir: str, num_classes: int):\n",
    "        self.labels: list[int] = []\n",
    "        self.__image_paths: list[str] = []\n",
    "        self.__num_classes: int = num_classes\n",
    "        base_dir = path.abspath(data_dir)\n",
    "        annotations = pd.read_csv(f\"{base_dir}/{data_filename}\")\n",
    "        for i, row in annotations.iterrows():\n",
    "            class_id = int(row['ClassId'])\n",
    "            image_path = path.join(base_dir, row['Path'])\n",
    "            self.__image_paths.append(image_path)\n",
    "            self.labels.append(class_id)\n",
    "\n",
    "    def plot_sample(self, index: int):\n",
    "        img = self._load_image(index)\n",
    "        label = str(self.labels[index])\n",
    "        fig = plt.figure(tight_layout=True, figsize=(2.5, 2.5))\n",
    "        axis = fig.add_subplot(1, 1, 1, title=index)\n",
    "        axis.set_xlabel(str(label))\n",
    "        axis.get_xaxis().set_ticks([])\n",
    "        axis.get_yaxis().set_ticks([])\n",
    "        axis.imshow(img)\n",
    "        plt.show()\n",
    "\n",
    "    def load_data(self) -> tuple[np.ndarray, np.ndarray]:\n",
    "        images, targets = [], []\n",
    "        for i in range(len(self.__image_paths)):\n",
    "            img, target = self[i]\n",
    "            images.append(img)\n",
    "            targets.append(target)\n",
    "        return np.array(images), np.array(targets)\n",
    "\n",
    "    def __getitem__(self, index: int) -> tuple:\n",
    "        img = self._load_image(index)\n",
    "        #smaller_size = min(img.shape[0], img.shape[1])\n",
    "        resize = layers.Resizing(128, 128, crop_to_aspect_ratio=True)\n",
    "        img = resize(img).cpu()\n",
    "        class_id = self.labels[index]\n",
    "        targets = np.zeros(self.__num_classes)\n",
    "        targets[class_id-1] = 1\n",
    "        return img, targets\n",
    "    \n",
    "    def _load_image(self, index: int) -> np.ndarray:\n",
    "        image_path = self.__image_paths[index]\n",
    "        with Image.open(image_path) as image:\n",
    "            image_array = np.array(image).astype(np.float32) / 255\n",
    "        return image_array\n",
    "\n",
    "\n",
    "train_dataset = SignDataset(\"Train.csv\", \"data\", 42)\n",
    "test_dataset = SignDataset(\"Test.csv\", \"data\", 42)\n",
    "x_train, y_train = train_dataset.load_data()\n",
    "x_test, y_test = test_dataset.load_data()\n",
    "train_dataset.plot_sample(5)"
   ]
  },
  {
   "cell_type": "code",
   "execution_count": null,
   "metadata": {},
   "outputs": [],
   "source": [
    "def plot_loss_history(loss_history: dict[str, list[float]]):\n",
    "    loss = loss_history[\"loss\"]\n",
    "    val_loss = loss_history[\"val_loss\"]\n",
    "    epochs = range(1, len(loss) + 1)\n",
    "    plt.plot(epochs, loss, \"bo\", label=\"Training loss\")\n",
    "    plt.plot(epochs, val_loss, \"b--\", label=\"Validation loss\")\n",
    "    plt.title(\"Training and validation loss\")\n",
    "    plt.xlabel(\"Epochs\")\n",
    "    plt.ylabel(\"Loss\")\n",
    "    plt.legend()\n",
    "    plt.show()"
   ]
  },
  {
   "cell_type": "code",
   "execution_count": 14,
   "metadata": {},
   "outputs": [],
   "source": [
    "from keras import Model, Sequential\n",
    "from keras import layers\n",
    "from keras import losses\n",
    "from keras import optimizers\n",
    "\n",
    "\n",
    "class SignDetector(Model):\n",
    "    def __init__(self, num_classes: int):\n",
    "        super().__init__()\n",
    "        self.hidden_layers = Sequential([\n",
    "            layers.Input(shape=(128, 128, 3)),\n",
    "            layers.Conv2D(64, kernel_size=(3, 3), activation=\"relu\"),\n",
    "            layers.Conv2D(64, kernel_size=(3, 3), activation=\"relu\"),\n",
    "            layers.MaxPooling2D(pool_size=(2, 2)),\n",
    "            layers.Conv2D(128, kernel_size=(3, 3), activation=\"relu\"),\n",
    "            layers.Conv2D(128, kernel_size=(3, 3), activation=\"relu\"),\n",
    "            layers.GlobalAveragePooling2D(),\n",
    "            layers.Dropout(0.5),\n",
    "        ])\n",
    "        self.classifier = layers.Dense(num_classes, activation=\"softmax\")\n",
    "\n",
    "    def call(self, inputs):\n",
    "        features = self.hidden_layers(inputs)\n",
    "        return self.classifier(features)\n",
    "\n",
    "\n",
    "sign_detector = SignDetector(42)\n",
    "sign_detector.compile(\n",
    "    loss=losses.CategoricalCrossentropy(),\n",
    "    optimizer=optimizers.SGD(learning_rate=0.001))\n",
    "\n"
   ]
  },
  {
   "cell_type": "code",
   "execution_count": 16,
   "metadata": {},
   "outputs": [
    {
     "name": "stdout",
     "output_type": "stream",
     "text": [
      "Epoch 1/100\n",
      "\u001b[1m215/215\u001b[0m \u001b[32m━━━━━━━━━━━━━━━━━━━━\u001b[0m\u001b[37m\u001b[0m \u001b[1m16s\u001b[0m 74ms/step - loss: 3.7334 - val_loss: 3.7501 - learning_rate: 0.0010\n",
      "Epoch 2/100\n",
      "\u001b[1m215/215\u001b[0m \u001b[32m━━━━━━━━━━━━━━━━━━━━\u001b[0m\u001b[37m\u001b[0m \u001b[1m16s\u001b[0m 74ms/step - loss: 3.7086 - val_loss: 3.7680 - learning_rate: 0.0010\n",
      "Epoch 3/100\n",
      "\u001b[1m215/215\u001b[0m \u001b[32m━━━━━━━━━━━━━━━━━━━━\u001b[0m\u001b[37m\u001b[0m \u001b[1m16s\u001b[0m 74ms/step - loss: 3.6804 - val_loss: 3.7965 - learning_rate: 0.0010\n",
      "Epoch 4/100\n",
      "\u001b[1m215/215\u001b[0m \u001b[32m━━━━━━━━━━━━━━━━━━━━\u001b[0m\u001b[37m\u001b[0m \u001b[1m16s\u001b[0m 74ms/step - loss: 3.6391 - val_loss: 3.8546 - learning_rate: 0.0010\n",
      "Epoch 5/100\n",
      "\u001b[1m215/215\u001b[0m \u001b[32m━━━━━━━━━━━━━━━━━━━━\u001b[0m\u001b[37m\u001b[0m \u001b[1m16s\u001b[0m 74ms/step - loss: 3.5583 - val_loss: 4.0220 - learning_rate: 0.0010\n",
      "Epoch 6/100\n",
      "\u001b[1m215/215\u001b[0m \u001b[32m━━━━━━━━━━━━━━━━━━━━\u001b[0m\u001b[37m\u001b[0m \u001b[1m16s\u001b[0m 74ms/step - loss: 3.4273 - val_loss: 4.2141 - learning_rate: 5.0000e-04\n",
      "Epoch 7/100\n",
      "\u001b[1m215/215\u001b[0m \u001b[32m━━━━━━━━━━━━━━━━━━━━\u001b[0m\u001b[37m\u001b[0m \u001b[1m16s\u001b[0m 74ms/step - loss: 3.3231 - val_loss: 4.4791 - learning_rate: 5.0000e-04\n",
      "Epoch 8/100\n",
      "\u001b[1m215/215\u001b[0m \u001b[32m━━━━━━━━━━━━━━━━━━━━\u001b[0m\u001b[37m\u001b[0m \u001b[1m16s\u001b[0m 74ms/step - loss: 3.2488 - val_loss: 4.7559 - learning_rate: 5.0000e-04\n"
     ]
    }
   ],
   "source": [
    "from keras import callbacks\n",
    "\n",
    "\n",
    "BATCH_SIZE = 128\n",
    "EPOCHS = 100\n",
    "\n",
    "cbs = [\n",
    "    callbacks.EarlyStopping(monitor=\"val_loss\", patience=7),\n",
    "    callbacks.ReduceLROnPlateau(monitor=\"val_loss\", patience=4, factor=0.5),\n",
    "]\n",
    "history = sign_detector.fit(\n",
    "    x_train,\n",
    "    y_train,\n",
    "    batch_size=BATCH_SIZE,\n",
    "    epochs=EPOCHS,\n",
    "    callbacks=cbs,\n",
    "    validation_split=0.3)"
   ]
  },
  {
   "cell_type": "code",
   "execution_count": 17,
   "metadata": {},
   "outputs": [
    {
     "data": {
      "image/png": "[encoded data removed]",
      "text/plain": [
       "<Figure size 640x480 with 1 Axes>"
      ]
     },
     "metadata": {},
     "output_type": "display_data"
    }
   ],
   "source": [
    "plot_loss_history(history.history)"
   ]
  },
  {
   "cell_type": "code",
   "execution_count": 18,
   "metadata": {},
   "outputs": [
    {
     "name": "stdout",
     "output_type": "stream",
     "text": [
      "\u001b[1m  1/395\u001b[0m \u001b[37m━━━━━━━━━━━━━━━━━━━━\u001b[0m \u001b[1m6s\u001b[0m 17ms/step"
     ]
    },
    {
     "name": "stdout",
     "output_type": "stream",
     "text": [
      "\u001b[1m395/395\u001b[0m \u001b[32m━━━━━━━━━━━━━━━━━━━━\u001b[0m\u001b[37m\u001b[0m \u001b[1m2s\u001b[0m 5ms/step\n",
      "Accuracy: 0.05701\n",
      "              precision    recall  f1-score   support\n",
      "\n",
      "           0       0.00      0.00      0.00        60\n",
      "           1       0.06      1.00      0.11       720\n",
      "           2       0.00      0.00      0.00       750\n",
      "           3       0.00      0.00      0.00       450\n",
      "           4       0.00      0.00      0.00       660\n",
      "           5       0.00      0.00      0.00       630\n",
      "           6       0.00      0.00      0.00       150\n",
      "           7       0.00      0.00      0.00       450\n",
      "           8       0.00      0.00      0.00       450\n",
      "           9       0.00      0.00      0.00       480\n",
      "          10       0.00      0.00      0.00       660\n",
      "          11       0.00      0.00      0.00       420\n",
      "          12       0.00      0.00      0.00       690\n",
      "          13       0.00      0.00      0.00       720\n",
      "          14       0.00      0.00      0.00       270\n",
      "          15       0.00      0.00      0.00       210\n",
      "          16       0.00      0.00      0.00       150\n",
      "          17       0.00      0.00      0.00       360\n",
      "          18       0.00      0.00      0.00       390\n",
      "          19       0.00      0.00      0.00        60\n",
      "          20       0.00      0.00      0.00        90\n",
      "          21       0.00      0.00      0.00        90\n",
      "          22       0.00      0.00      0.00       120\n",
      "          23       0.00      0.00      0.00       150\n",
      "          24       0.00      0.00      0.00        90\n",
      "          25       0.00      0.00      0.00       480\n",
      "          26       0.00      0.00      0.00       180\n",
      "          27       0.00      0.00      0.00        60\n",
      "          28       0.00      0.00      0.00       150\n",
      "          29       0.00      0.00      0.00        90\n",
      "          30       0.00      0.00      0.00       150\n",
      "          31       0.00      0.00      0.00       270\n",
      "          32       0.00      0.00      0.00        60\n",
      "          33       0.00      0.00      0.00       210\n",
      "          34       0.00      0.00      0.00       120\n",
      "          35       0.00      0.00      0.00       390\n",
      "          36       0.00      0.00      0.00       120\n",
      "          37       0.00      0.00      0.00        60\n",
      "          38       0.00      0.00      0.00       690\n",
      "          39       0.00      0.00      0.00        90\n",
      "          40       0.00      0.00      0.00        90\n",
      "          41       0.00      0.00      0.00        60\n",
      "          42       0.00      0.00      0.00        90\n",
      "\n",
      "    accuracy                           0.06     12630\n",
      "   macro avg       0.00      0.02      0.00     12630\n",
      "weighted avg       0.00      0.06      0.01     12630\n",
      "\n"
     ]
    },
    {
     "name": "stderr",
     "output_type": "stream",
     "text": [
      "/home/diego/miniconda3/envs/mna_py_310/lib/python3.10/site-packages/sklearn/metrics/_classification.py:1509: UndefinedMetricWarning: Precision is ill-defined and being set to 0.0 in labels with no predicted samples. Use `zero_division` parameter to control this behavior.\n",
      "  _warn_prf(average, modifier, f\"{metric.capitalize()} is\", len(result))\n",
      "/home/diego/miniconda3/envs/mna_py_310/lib/python3.10/site-packages/sklearn/metrics/_classification.py:1509: UndefinedMetricWarning: Precision is ill-defined and being set to 0.0 in labels with no predicted samples. Use `zero_division` parameter to control this behavior.\n",
      "  _warn_prf(average, modifier, f\"{metric.capitalize()} is\", len(result))\n",
      "/home/diego/miniconda3/envs/mna_py_310/lib/python3.10/site-packages/sklearn/metrics/_classification.py:1509: UndefinedMetricWarning: Precision is ill-defined and being set to 0.0 in labels with no predicted samples. Use `zero_division` parameter to control this behavior.\n",
      "  _warn_prf(average, modifier, f\"{metric.capitalize()} is\", len(result))\n"
     ]
    }
   ],
   "source": [
    "from sklearn import metrics\n",
    "\n",
    "y_test = test_dataset.labels\n",
    "output = sign_detector.predict(x_test)\n",
    "predictions = np.argmax(output, axis=1) + 1\n",
    "conf_matrix = metrics.confusion_matrix(y_test, predictions)\n",
    "print(f\"Accuracy: {metrics.accuracy_score(y_test, predictions):.5f}\")\n",
    "print(metrics.classification_report(y_test, predictions))"
   ]
  }
 ],
 "metadata": {
  "kernelspec": {
   "display_name": "mna_py_310",
   "language": "python",
   "name": "python3"
  },
  "language_info": {
   "codemirror_mode": {
    "name": "ipython",
    "version": 3
   },
   "file_extension": ".py",
   "mimetype": "text/x-python",
   "name": "python",
   "nbconvert_exporter": "python",
   "pygments_lexer": "ipython3",
   "version": "3.10.13"
  }
 },
 "nbformat": 4,
 "nbformat_minor": 2
}
